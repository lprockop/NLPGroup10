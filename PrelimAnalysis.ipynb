{
 "cells": [
  {
   "cell_type": "markdown",
   "metadata": {
    "colab_type": "text",
    "id": "view-in-github"
   },
   "source": [
    "<a href=\"https://colab.research.google.com/github/lprockop/NLPGroup10/blob/main/PrelimAnalysis.ipynb\" target=\"_parent\"><img src=\"https://colab.research.google.com/assets/colab-badge.svg\" alt=\"Open In Colab\"/></a>"
   ]
  },
  {
   "cell_type": "markdown",
   "metadata": {
    "id": "6_cxiszrRo90"
   },
   "source": [
    "# NLP Final Project\n",
    "\n",
    "## Last updated:\n",
    "04/14/23, Lyle\n",
    "\n",
    "### Current state:\n",
    "  \n",
    "Data is imported and eFMD scores are run.  \n",
    "eFMD already includes necessary preprocessing steps (removing special characters and lowercasing letters) so those steps are kept in at the end in case we want to use them for other scorers/analyses.\n",
    "\n",
    "Update as of 04/09:\n",
    "- Ran vice-virtue scoring \n",
    "- Graphed sanctity.vice scores\n",
    "\n",
    "### Note: \n",
    "After making any updates, please File > Save a Copy in GitHub to update the shared GitHub project"
   ]
  },
  {
   "cell_type": "markdown",
   "metadata": {
    "id": "SAWvZmlJZDRY"
   },
   "source": [
    "### Import data"
   ]
  },
  {
   "cell_type": "code",
   "execution_count": 7,
   "metadata": {
    "id": "q63Xmn_Mya09"
   },
   "outputs": [],
   "source": [
    "#read in csvs (note: I've downloaded these from the Data Google folder and re-uploaded in this runtime)\n",
    "import pandas as pd\n",
    "nyt = pd.read_csv('nyt_abortion_1200.csv').drop(columns='Unnamed: 0')\n",
    "sc = pd.read_csv('scotus_abortion.csv').drop(columns=['Unnamed: 0', 'Unnamed: 0.1'])\n",
    "\n",
    "#add year column to NYT dataset\n",
    "year = []\n",
    "for i in nyt.pub_date:\n",
    "  year.append(int(i[0:4]))\n",
    "nyt['year'] = year"
   ]
  },
  {
   "cell_type": "markdown",
   "metadata": {
    "id": "kA0SbTCfaxxS"
   },
   "source": [
    "### Sentiment analysis using eFMD"
   ]
  },
  {
   "cell_type": "code",
   "execution_count": null,
   "metadata": {
    "id": "OGpTWrEsa12M",
    "scrolled": false
   },
   "outputs": [],
   "source": [
    "#install necessary modules\n",
    "!pip install -U pip setuptools wheel\n",
    "!pip install -U spacy==3.4.0\n",
    "!python -m spacy download en_core_web_sm\n",
    "!pip install git+https://github.com/medianeuroscience/emfdscore.git"
   ]
  },
  {
   "cell_type": "code",
   "execution_count": 9,
   "metadata": {
    "id": "QqdSdUxDuA5S"
   },
   "outputs": [],
   "source": [
    "#import packages we'll need\n",
    "import pandas as pd \n",
    "import numpy as np"
   ]
  },
  {
   "cell_type": "code",
   "execution_count": 10,
   "metadata": {
    "id": "Yc6wRKp4wRt-"
   },
   "outputs": [],
   "source": [
    "#format text columns in the proper format for eFMD...\n",
    "#...in NYT dataframe\n",
    "template_input_nyt = pd.DataFrame(nyt['abstract']).sort_values('abstract', ascending=False).dropna()\n",
    "template_input_nyt = template_input_nyt[template_input_nyt['abstract']!=''].sort_values('abstract').rename({'abstract':0}, axis=1)\n",
    "template_input_nyt = template_input_nyt.reset_index().drop('index', axis=1)\n",
    "#...in SC dataframe\n",
    "template_input_sc = pd.DataFrame(sc['text']).sort_values('text', ascending=False).dropna()\n",
    "template_input_sc = template_input_sc[template_input_sc['text']!=''].sort_values('text').rename({'text':0}, axis=1)\n",
    "template_input_sc = template_input_sc.reset_index().drop('index', axis=1)"
   ]
  },
  {
   "cell_type": "code",
   "execution_count": 11,
   "metadata": {
    "colab": {
     "base_uri": "https://localhost:8080/",
     "height": 547
    },
    "id": "-PX4qFNmuIb8",
    "outputId": "e0573765-7705-49e9-9633-a74280fe4866"
   },
   "outputs": [
    {
     "name": "stderr",
     "output_type": "stream",
     "text": [
      "Processed: 1189 100% |❤❤❤❤❤❤❤❤❤❤❤❤❤❤❤❤❤❤❤| Elapsed Time: 0:00:16 Time:  0:00:16\n",
      "Processed: 35 100% |❤❤❤❤❤❤❤❤❤❤❤❤❤❤❤❤❤❤❤❤❤| Elapsed Time: 0:00:34 Time:  0:00:34\n"
     ]
    },
    {
     "data": {
      "text/html": [
       "<div>\n",
       "<style scoped>\n",
       "    .dataframe tbody tr th:only-of-type {\n",
       "        vertical-align: middle;\n",
       "    }\n",
       "\n",
       "    .dataframe tbody tr th {\n",
       "        vertical-align: top;\n",
       "    }\n",
       "\n",
       "    .dataframe thead th {\n",
       "        text-align: right;\n",
       "    }\n",
       "</style>\n",
       "<table border=\"1\" class=\"dataframe\">\n",
       "  <thead>\n",
       "    <tr style=\"text-align: right;\">\n",
       "      <th></th>\n",
       "      <th>Unnamed: 0.2</th>\n",
       "      <th>author_name</th>\n",
       "      <th>category</th>\n",
       "      <th>per_curiam</th>\n",
       "      <th>case_name</th>\n",
       "      <th>date_filed</th>\n",
       "      <th>federal_cite_one</th>\n",
       "      <th>absolute_url</th>\n",
       "      <th>cluster</th>\n",
       "      <th>year_filed</th>\n",
       "      <th>...</th>\n",
       "      <th>authority_p</th>\n",
       "      <th>sanctity_p</th>\n",
       "      <th>care_sent</th>\n",
       "      <th>fairness_sent</th>\n",
       "      <th>loyalty_sent</th>\n",
       "      <th>authority_sent</th>\n",
       "      <th>sanctity_sent</th>\n",
       "      <th>moral_nonmoral_ratio</th>\n",
       "      <th>f_var</th>\n",
       "      <th>sent_var</th>\n",
       "    </tr>\n",
       "  </thead>\n",
       "  <tbody>\n",
       "    <tr>\n",
       "      <th>0</th>\n",
       "      <td>0</td>\n",
       "      <td>Justice Blackmun</td>\n",
       "      <td>majority</td>\n",
       "      <td>False</td>\n",
       "      <td>Roe v. Wade</td>\n",
       "      <td>1973-01-22</td>\n",
       "      <td>NaN</td>\n",
       "      <td>https://www.courtlistener.com/opinion/108713/r...</td>\n",
       "      <td>https://www.courtlistener.com/api/rest/v3/clus...</td>\n",
       "      <td>1973</td>\n",
       "      <td>...</td>\n",
       "      <td>0.104120</td>\n",
       "      <td>0.088544</td>\n",
       "      <td>-0.078838</td>\n",
       "      <td>-0.049894</td>\n",
       "      <td>-0.024090</td>\n",
       "      <td>-0.022071</td>\n",
       "      <td>-0.050575</td>\n",
       "      <td>0.881183</td>\n",
       "      <td>0.000073</td>\n",
       "      <td>0.000541</td>\n",
       "    </tr>\n",
       "    <tr>\n",
       "      <th>1</th>\n",
       "      <td>1</td>\n",
       "      <td>Justice O'Connor and Kennedy and Souter</td>\n",
       "      <td>majority</td>\n",
       "      <td>False</td>\n",
       "      <td>Planned Parenthood of Southeastern Pa. v. Casey</td>\n",
       "      <td>1992-06-29</td>\n",
       "      <td>NaN</td>\n",
       "      <td>https://www.courtlistener.com/opinion/112786/p...</td>\n",
       "      <td>NaN</td>\n",
       "      <td>1992</td>\n",
       "      <td>...</td>\n",
       "      <td>0.104372</td>\n",
       "      <td>0.092741</td>\n",
       "      <td>-0.071447</td>\n",
       "      <td>-0.045651</td>\n",
       "      <td>-0.026034</td>\n",
       "      <td>-0.034011</td>\n",
       "      <td>-0.047386</td>\n",
       "      <td>1.399520</td>\n",
       "      <td>0.000089</td>\n",
       "      <td>0.000296</td>\n",
       "    </tr>\n",
       "    <tr>\n",
       "      <th>2</th>\n",
       "      <td>2</td>\n",
       "      <td>Justice Stewart</td>\n",
       "      <td>concurring</td>\n",
       "      <td>False</td>\n",
       "      <td>Roe v. Wade</td>\n",
       "      <td>1973-01-22</td>\n",
       "      <td>NaN</td>\n",
       "      <td>https://www.courtlistener.com/opinion/108713/r...</td>\n",
       "      <td>https://www.courtlistener.com/api/rest/v3/clus...</td>\n",
       "      <td>1973</td>\n",
       "      <td>...</td>\n",
       "      <td>0.104660</td>\n",
       "      <td>0.086185</td>\n",
       "      <td>-0.089379</td>\n",
       "      <td>-0.015917</td>\n",
       "      <td>-0.007430</td>\n",
       "      <td>-0.005189</td>\n",
       "      <td>-0.051946</td>\n",
       "      <td>1.174528</td>\n",
       "      <td>0.000169</td>\n",
       "      <td>0.001313</td>\n",
       "    </tr>\n",
       "    <tr>\n",
       "      <th>3</th>\n",
       "      <td>3</td>\n",
       "      <td>Justice Rehnquist</td>\n",
       "      <td>dissenting</td>\n",
       "      <td>False</td>\n",
       "      <td>Roe v. Wade</td>\n",
       "      <td>1973-01-22</td>\n",
       "      <td>NaN</td>\n",
       "      <td>https://www.courtlistener.com/opinion/108713/r...</td>\n",
       "      <td>https://www.courtlistener.com/api/rest/v3/clus...</td>\n",
       "      <td>1973</td>\n",
       "      <td>...</td>\n",
       "      <td>0.104747</td>\n",
       "      <td>0.082228</td>\n",
       "      <td>-0.089115</td>\n",
       "      <td>-0.024546</td>\n",
       "      <td>-0.029659</td>\n",
       "      <td>-0.038441</td>\n",
       "      <td>-0.071355</td>\n",
       "      <td>1.054968</td>\n",
       "      <td>0.000187</td>\n",
       "      <td>0.000795</td>\n",
       "    </tr>\n",
       "    <tr>\n",
       "      <th>4</th>\n",
       "      <td>4</td>\n",
       "      <td>per_curiam</td>\n",
       "      <td>per_curiam</td>\n",
       "      <td>True</td>\n",
       "      <td>Poelker v. Doe</td>\n",
       "      <td>1977-06-20</td>\n",
       "      <td>NaN</td>\n",
       "      <td>https://www.courtlistener.com/opinion/109712/p...</td>\n",
       "      <td>https://www.courtlistener.com/api/rest/v3/clus...</td>\n",
       "      <td>1977</td>\n",
       "      <td>...</td>\n",
       "      <td>0.105832</td>\n",
       "      <td>0.086574</td>\n",
       "      <td>-0.080738</td>\n",
       "      <td>-0.044666</td>\n",
       "      <td>-0.030372</td>\n",
       "      <td>-0.028697</td>\n",
       "      <td>-0.051229</td>\n",
       "      <td>1.013566</td>\n",
       "      <td>0.000106</td>\n",
       "      <td>0.000443</td>\n",
       "    </tr>\n",
       "  </tbody>\n",
       "</table>\n",
       "<p>5 rows × 28 columns</p>\n",
       "</div>"
      ],
      "text/plain": [
       "   Unnamed: 0.2                              author_name    category  \\\n",
       "0             0                         Justice Blackmun    majority   \n",
       "1             1  Justice O'Connor and Kennedy and Souter    majority   \n",
       "2             2                          Justice Stewart  concurring   \n",
       "3             3                        Justice Rehnquist  dissenting   \n",
       "4             4                               per_curiam  per_curiam   \n",
       "\n",
       "   per_curiam                                        case_name  date_filed  \\\n",
       "0       False                                      Roe v. Wade  1973-01-22   \n",
       "1       False  Planned Parenthood of Southeastern Pa. v. Casey  1992-06-29   \n",
       "2       False                                      Roe v. Wade  1973-01-22   \n",
       "3       False                                      Roe v. Wade  1973-01-22   \n",
       "4        True                                   Poelker v. Doe  1977-06-20   \n",
       "\n",
       "   federal_cite_one                                       absolute_url  \\\n",
       "0               NaN  https://www.courtlistener.com/opinion/108713/r...   \n",
       "1               NaN  https://www.courtlistener.com/opinion/112786/p...   \n",
       "2               NaN  https://www.courtlistener.com/opinion/108713/r...   \n",
       "3               NaN  https://www.courtlistener.com/opinion/108713/r...   \n",
       "4               NaN  https://www.courtlistener.com/opinion/109712/p...   \n",
       "\n",
       "                                             cluster  year_filed  ...  \\\n",
       "0  https://www.courtlistener.com/api/rest/v3/clus...        1973  ...   \n",
       "1                                                NaN        1992  ...   \n",
       "2  https://www.courtlistener.com/api/rest/v3/clus...        1973  ...   \n",
       "3  https://www.courtlistener.com/api/rest/v3/clus...        1973  ...   \n",
       "4  https://www.courtlistener.com/api/rest/v3/clus...        1977  ...   \n",
       "\n",
       "  authority_p  sanctity_p  care_sent  fairness_sent loyalty_sent  \\\n",
       "0    0.104120    0.088544  -0.078838      -0.049894    -0.024090   \n",
       "1    0.104372    0.092741  -0.071447      -0.045651    -0.026034   \n",
       "2    0.104660    0.086185  -0.089379      -0.015917    -0.007430   \n",
       "3    0.104747    0.082228  -0.089115      -0.024546    -0.029659   \n",
       "4    0.105832    0.086574  -0.080738      -0.044666    -0.030372   \n",
       "\n",
       "   authority_sent  sanctity_sent  moral_nonmoral_ratio     f_var  sent_var  \n",
       "0       -0.022071      -0.050575              0.881183  0.000073  0.000541  \n",
       "1       -0.034011      -0.047386              1.399520  0.000089  0.000296  \n",
       "2       -0.005189      -0.051946              1.174528  0.000169  0.001313  \n",
       "3       -0.038441      -0.071355              1.054968  0.000187  0.000795  \n",
       "4       -0.028697      -0.051229              1.013566  0.000106  0.000443  \n",
       "\n",
       "[5 rows x 28 columns]"
      ]
     },
     "execution_count": 11,
     "metadata": {},
     "output_type": "execute_result"
    }
   ],
   "source": [
    "#import and run eFMD scoring\n",
    "from emfdscore.scoring import score_docs \n",
    "num_docs_nyt = len(template_input_nyt)\n",
    "num_docs_sc = len(template_input_sc)\n",
    "DICT_TYPE = 'emfd'\n",
    "PROB_MAP = 'all'\n",
    "SCORE_METHOD = 'bow'\n",
    "OUT_METRICS = 'sentiment'\n",
    "#create new dfs to hold the results\n",
    "df_nyt = score_docs(template_input_nyt, DICT_TYPE, PROB_MAP, SCORE_METHOD, OUT_METRICS, num_docs_nyt)\n",
    "df_sc = score_docs(template_input_sc, DICT_TYPE, PROB_MAP, SCORE_METHOD, OUT_METRICS, num_docs_sc)\n",
    "#combine dfs that hold the initial data with the results\n",
    "nyt_df = pd.concat((nyt, df_nyt), axis=1)\n",
    "sc_df = pd.concat((sc, df_sc), axis=1)\n",
    "#examine output for SC\n",
    "sc_df.head()"
   ]
  },
  {
   "cell_type": "code",
   "execution_count": 12,
   "metadata": {
    "colab": {
     "base_uri": "https://localhost:8080/",
     "height": 585
    },
    "id": "xvmzLvGBMsyd",
    "outputId": "1be17fa6-52d8-42f0-ef28-f50073110a0a"
   },
   "outputs": [
    {
     "data": {
      "image/png": "[encoded data removed]",
      "text/plain": [
       "<Figure size 576x432 with 1 Axes>"
      ]
     },
     "metadata": {
      "needs_background": "light"
     },
     "output_type": "display_data"
    }
   ],
   "source": [
    "#visualize sanctity scores over time\n",
    "import matplotlib.pyplot as plt\n",
    "plt.figure(figsize=(8, 6))\n",
    "plt.scatter(nyt_df.year, nyt_df.sanctity_sent, alpha=0.5, color='lightblue', label='NYT articles')\n",
    "plt.scatter(sc_df.year_filed, sc_df.sanctity_sent, alpha=0.5, color='green', label='SCOTUS opinions')\n",
    "plt.legend()\n",
    "plt.xticks(rotation=90)\n",
    "plt.xlabel('Publication year')\n",
    "plt.ylabel('Sanctity')\n",
    "plt.title('Sanctity of abortion-related publishings over time')\n",
    "plt.grid()\n",
    "plt.show()"
   ]
  },
  {
   "cell_type": "code",
   "execution_count": 25,
   "metadata": {
    "colab": {
     "base_uri": "https://localhost:8080/",
     "height": 492
    },
    "id": "cw8Hi1rDNB2Y",
    "outputId": "43d8a302-82c2-4d43-ceed-1ca200e39a18"
   },
   "outputs": [
    {
     "name": "stderr",
     "output_type": "stream",
     "text": [
      "Processed: 1189 100% |❤❤❤❤❤❤❤❤❤❤❤❤❤❤❤❤❤❤❤| Elapsed Time: 0:00:23 Time:  0:00:23\n",
      "Processed: 35 100% |❤❤❤❤❤❤❤❤❤❤❤❤❤❤❤❤❤❤❤❤❤| Elapsed Time: 0:00:54 Time:  0:00:54\n"
     ]
    },
    {
     "data": {
      "text/html": [
       "<div>\n",
       "<style scoped>\n",
       "    .dataframe tbody tr th:only-of-type {\n",
       "        vertical-align: middle;\n",
       "    }\n",
       "\n",
       "    .dataframe tbody tr th {\n",
       "        vertical-align: top;\n",
       "    }\n",
       "\n",
       "    .dataframe thead th {\n",
       "        text-align: right;\n",
       "    }\n",
       "</style>\n",
       "<table border=\"1\" class=\"dataframe\">\n",
       "  <thead>\n",
       "    <tr style=\"text-align: right;\">\n",
       "      <th></th>\n",
       "      <th>author_name</th>\n",
       "      <th>category</th>\n",
       "      <th>per_curiam</th>\n",
       "      <th>case_name</th>\n",
       "      <th>date_filed</th>\n",
       "      <th>federal_cite_one</th>\n",
       "      <th>absolute_url</th>\n",
       "      <th>cluster</th>\n",
       "      <th>year_filed</th>\n",
       "      <th>scdb_id</th>\n",
       "      <th>...</th>\n",
       "      <th>authority.virtue</th>\n",
       "      <th>sanctity.virtue</th>\n",
       "      <th>care.vice</th>\n",
       "      <th>fairness.vice</th>\n",
       "      <th>loyalty.vice</th>\n",
       "      <th>authority.vice</th>\n",
       "      <th>sanctity.vice</th>\n",
       "      <th>moral</th>\n",
       "      <th>moral_nonmoral_ratio</th>\n",
       "      <th>f_var</th>\n",
       "    </tr>\n",
       "  </thead>\n",
       "  <tbody>\n",
       "    <tr>\n",
       "      <th>0</th>\n",
       "      <td>Justice Blackmun</td>\n",
       "      <td>majority</td>\n",
       "      <td>False</td>\n",
       "      <td>Roe v. Wade</td>\n",
       "      <td>1973-01-22</td>\n",
       "      <td>NaN</td>\n",
       "      <td>https://www.courtlistener.com/opinion/108713/r...</td>\n",
       "      <td>https://www.courtlistener.com/api/rest/v3/clus...</td>\n",
       "      <td>1973</td>\n",
       "      <td>1972-048</td>\n",
       "      <td>...</td>\n",
       "      <td>0.332061</td>\n",
       "      <td>0.011450</td>\n",
       "      <td>0.039440</td>\n",
       "      <td>0.013995</td>\n",
       "      <td>0.017812</td>\n",
       "      <td>0.113232</td>\n",
       "      <td>0.003817</td>\n",
       "      <td>0.134860</td>\n",
       "      <td>0.058657</td>\n",
       "      <td>0.010225</td>\n",
       "    </tr>\n",
       "    <tr>\n",
       "      <th>1</th>\n",
       "      <td>Justice O'Connor and Kennedy and Souter</td>\n",
       "      <td>majority</td>\n",
       "      <td>False</td>\n",
       "      <td>Planned Parenthood of Southeastern Pa. v. Casey</td>\n",
       "      <td>1992-06-29</td>\n",
       "      <td>NaN</td>\n",
       "      <td>https://www.courtlistener.com/opinion/112786/p...</td>\n",
       "      <td>NaN</td>\n",
       "      <td>1992</td>\n",
       "      <td>1991-117</td>\n",
       "      <td>...</td>\n",
       "      <td>0.267380</td>\n",
       "      <td>0.010695</td>\n",
       "      <td>0.117647</td>\n",
       "      <td>0.030303</td>\n",
       "      <td>0.035651</td>\n",
       "      <td>0.049911</td>\n",
       "      <td>0.003565</td>\n",
       "      <td>0.160428</td>\n",
       "      <td>0.066548</td>\n",
       "      <td>0.006358</td>\n",
       "    </tr>\n",
       "    <tr>\n",
       "      <th>2</th>\n",
       "      <td>Justice Stewart</td>\n",
       "      <td>concurring</td>\n",
       "      <td>False</td>\n",
       "      <td>Roe v. Wade</td>\n",
       "      <td>1973-01-22</td>\n",
       "      <td>NaN</td>\n",
       "      <td>https://www.courtlistener.com/opinion/108713/r...</td>\n",
       "      <td>https://www.courtlistener.com/api/rest/v3/clus...</td>\n",
       "      <td>1973</td>\n",
       "      <td>1972-048</td>\n",
       "      <td>...</td>\n",
       "      <td>0.125000</td>\n",
       "      <td>0.000000</td>\n",
       "      <td>0.062500</td>\n",
       "      <td>0.000000</td>\n",
       "      <td>0.000000</td>\n",
       "      <td>0.093750</td>\n",
       "      <td>0.000000</td>\n",
       "      <td>0.187500</td>\n",
       "      <td>0.074592</td>\n",
       "      <td>0.007172</td>\n",
       "    </tr>\n",
       "    <tr>\n",
       "      <th>3</th>\n",
       "      <td>Justice Rehnquist</td>\n",
       "      <td>dissenting</td>\n",
       "      <td>False</td>\n",
       "      <td>Roe v. Wade</td>\n",
       "      <td>1973-01-22</td>\n",
       "      <td>NaN</td>\n",
       "      <td>https://www.courtlistener.com/opinion/108713/r...</td>\n",
       "      <td>https://www.courtlistener.com/api/rest/v3/clus...</td>\n",
       "      <td>1973</td>\n",
       "      <td>1972-048</td>\n",
       "      <td>...</td>\n",
       "      <td>0.209877</td>\n",
       "      <td>0.074074</td>\n",
       "      <td>0.098765</td>\n",
       "      <td>0.000000</td>\n",
       "      <td>0.012346</td>\n",
       "      <td>0.086420</td>\n",
       "      <td>0.012346</td>\n",
       "      <td>0.185185</td>\n",
       "      <td>0.043478</td>\n",
       "      <td>0.006070</td>\n",
       "    </tr>\n",
       "    <tr>\n",
       "      <th>4</th>\n",
       "      <td>per_curiam</td>\n",
       "      <td>per_curiam</td>\n",
       "      <td>True</td>\n",
       "      <td>Poelker v. Doe</td>\n",
       "      <td>1977-06-20</td>\n",
       "      <td>NaN</td>\n",
       "      <td>https://www.courtlistener.com/opinion/109712/p...</td>\n",
       "      <td>https://www.courtlistener.com/api/rest/v3/clus...</td>\n",
       "      <td>1977</td>\n",
       "      <td>1976-157</td>\n",
       "      <td>...</td>\n",
       "      <td>0.310000</td>\n",
       "      <td>0.000000</td>\n",
       "      <td>0.000000</td>\n",
       "      <td>0.010000</td>\n",
       "      <td>0.040000</td>\n",
       "      <td>0.030000</td>\n",
       "      <td>0.010000</td>\n",
       "      <td>0.200000</td>\n",
       "      <td>0.050556</td>\n",
       "      <td>0.011366</td>\n",
       "    </tr>\n",
       "  </tbody>\n",
       "</table>\n",
       "<p>5 rows × 27 columns</p>\n",
       "</div>"
      ],
      "text/plain": [
       "                               author_name    category  per_curiam  \\\n",
       "0                         Justice Blackmun    majority       False   \n",
       "1  Justice O'Connor and Kennedy and Souter    majority       False   \n",
       "2                          Justice Stewart  concurring       False   \n",
       "3                        Justice Rehnquist  dissenting       False   \n",
       "4                               per_curiam  per_curiam        True   \n",
       "\n",
       "                                         case_name  date_filed  \\\n",
       "0                                      Roe v. Wade  1973-01-22   \n",
       "1  Planned Parenthood of Southeastern Pa. v. Casey  1992-06-29   \n",
       "2                                      Roe v. Wade  1973-01-22   \n",
       "3                                      Roe v. Wade  1973-01-22   \n",
       "4                                   Poelker v. Doe  1977-06-20   \n",
       "\n",
       "   federal_cite_one                                       absolute_url  \\\n",
       "0               NaN  https://www.courtlistener.com/opinion/108713/r...   \n",
       "1               NaN  https://www.courtlistener.com/opinion/112786/p...   \n",
       "2               NaN  https://www.courtlistener.com/opinion/108713/r...   \n",
       "3               NaN  https://www.courtlistener.com/opinion/108713/r...   \n",
       "4               NaN  https://www.courtlistener.com/opinion/109712/p...   \n",
       "\n",
       "                                             cluster  year_filed   scdb_id  \\\n",
       "0  https://www.courtlistener.com/api/rest/v3/clus...        1973  1972-048   \n",
       "1                                                NaN        1992  1991-117   \n",
       "2  https://www.courtlistener.com/api/rest/v3/clus...        1973  1972-048   \n",
       "3  https://www.courtlistener.com/api/rest/v3/clus...        1973  1972-048   \n",
       "4  https://www.courtlistener.com/api/rest/v3/clus...        1977  1976-157   \n",
       "\n",
       "   ...  authority.virtue  sanctity.virtue  care.vice fairness.vice  \\\n",
       "0  ...          0.332061         0.011450   0.039440      0.013995   \n",
       "1  ...          0.267380         0.010695   0.117647      0.030303   \n",
       "2  ...          0.125000         0.000000   0.062500      0.000000   \n",
       "3  ...          0.209877         0.074074   0.098765      0.000000   \n",
       "4  ...          0.310000         0.000000   0.000000      0.010000   \n",
       "\n",
       "   loyalty.vice  authority.vice  sanctity.vice     moral  \\\n",
       "0      0.017812        0.113232       0.003817  0.134860   \n",
       "1      0.035651        0.049911       0.003565  0.160428   \n",
       "2      0.000000        0.093750       0.000000  0.187500   \n",
       "3      0.012346        0.086420       0.012346  0.185185   \n",
       "4      0.040000        0.030000       0.010000  0.200000   \n",
       "\n",
       "   moral_nonmoral_ratio     f_var  \n",
       "0              0.058657  0.010225  \n",
       "1              0.066548  0.006358  \n",
       "2              0.074592  0.007172  \n",
       "3              0.043478  0.006070  \n",
       "4              0.050556  0.011366  \n",
       "\n",
       "[5 rows x 27 columns]"
      ]
     },
     "execution_count": 25,
     "metadata": {},
     "output_type": "execute_result"
    }
   ],
   "source": [
    "# running vice virtue analysis\n",
    "\n",
    "from emfdscore.scoring import score_docs \n",
    "\n",
    "num_docs_nyt = len(template_input_nyt)\n",
    "num_docs_sc = len(template_input_sc)\n",
    "\n",
    "DICT_TYPE = 'mfd'\n",
    "PROB_MAP = 'all'\n",
    "SCORE_METHOD = 'bow'\n",
    "OUT_METRICS = ''\n",
    "\n",
    "#create new dfs to hold the results\n",
    "df_nyt_v = score_docs(template_input_nyt, DICT_TYPE, PROB_MAP, SCORE_METHOD, OUT_METRICS, num_docs_nyt)\n",
    "df_sc_v = score_docs(template_input_sc, DICT_TYPE, PROB_MAP, SCORE_METHOD, OUT_METRICS, num_docs_sc)\n",
    "#combine dfs that hold the initial data with the results\n",
    "nyt_df_v = pd.concat((nyt, df_nyt_v), axis=1)\n",
    "sc_df_v = pd.concat((sc, df_sc_v), axis=1).drop(columns=['Unnamed: 0.2'])\n",
    "#examine output for SC\n",
    "sc_df_v.head()"
   ]
  },
  {
   "cell_type": "code",
   "execution_count": 23,
   "metadata": {},
   "outputs": [
    {
     "data": {
      "image/png": "[encoded data removed]",
      "text/plain": [
       "<Figure size 576x432 with 1 Axes>"
      ]
     },
     "metadata": {
      "needs_background": "light"
     },
     "output_type": "display_data"
    }
   ],
   "source": [
    "#visualize sanctity.vice over time\n",
    "import matplotlib.pyplot as plt\n",
    "plt.figure(figsize=(8, 6))\n",
    "plt.scatter(nyt_df.year, nyt_df_v['sanctity.virtue'], alpha=0.5, color='blue', label='NYT sanctity-virtue')\n",
    "plt.scatter(nyt_df.year, nyt_df_v['sanctity.vice'], alpha=0.5, color='red', label='NYT sanctity-vice')\n",
    "plt.scatter(sc_df.year_filed, sc_df_v['sanctity.virtue'], alpha=0.5, color='green', label='SCOTUS sanctity-virtue')\n",
    "plt.scatter(sc_df.year_filed, sc_df_v['sanctity.vice'], alpha=0.5, color='yellow', label='SCOTUS sanctity-vice')\n",
    "plt.legend()\n",
    "plt.xticks(rotation=90)\n",
    "plt.xlabel('Publication year')\n",
    "plt.ylabel('Sanctity-vice, Sanctity-virtue')\n",
    "plt.title('Sanctity-vice and sanctity-virtue over time')\n",
    "plt.grid()\n",
    "plt.savefig('san_vice_san_virtue.png')\n",
    "plt.show()"
   ]
  },
  {
   "cell_type": "markdown",
   "metadata": {
    "id": "N3VnKc4vhEtO"
   },
   "source": [
    "# Prediction model\n",
    "\n",
    "Given a corpus, what is the predicted sanctity score?"
   ]
  },
  {
   "cell_type": "code",
   "execution_count": 51,
   "metadata": {},
   "outputs": [],
   "source": [
    "from utils import *"
   ]
  },
  {
   "cell_type": "code",
   "execution_count": 65,
   "metadata": {
    "scrolled": false
   },
   "outputs": [
    {
     "name": "stdout",
     "output_type": "stream",
     "text": [
      "(1213, 2)\n"
     ]
    }
   ],
   "source": [
    "#CLEAN TEXT\n",
    "\n",
    "df = pd.concat((sc_df[['text', 'sanctity_sent']], \n",
    "                nyt_df[['abstract', 'sanctity_sent']].rename(columns={'abstract':'text'})), \n",
    "               axis=0, ignore_index=True).dropna(how='any', axis=0)\n",
    "\n",
    "print(df.shape)\n",
    "\n",
    "text_clean = []\n",
    "for i in df['text']:\n",
    "    try:\n",
    "        text_clean.append(clean_text(i))\n",
    "    except:\n",
    "        print(i)\n",
    "df['text_clean'] = text_clean"
   ]
  },
  {
   "cell_type": "code",
   "execution_count": 67,
   "metadata": {},
   "outputs": [
    {
     "name": "stdout",
     "output_type": "stream",
     "text": [
      "[0.00000000e+00 5.08052998e-06 2.17308782e-05 ... 0.00000000e+00\n",
      " 0.00000000e+00 0.00000000e+00]\n"
     ]
    }
   ],
   "source": [
    "#remove stopwords\n",
    "df['text_remsw'] = df['text_clean'].apply(rem_sw)\n",
    "\n",
    "#stem (this uses PorterStemmer)\n",
    "df['text_stem'] = df['text_remsw'].apply(stem_fun)\n",
    "\n",
    "#turn each corpus into df?\n",
    "\n",
    "#vectorize\n",
    "vec = vec_fun(df['text_stem'], 1, 1, 'tfidf', '')\n",
    "\n",
    "#train test split df\n",
    "X = vec\n",
    "y = df['sanctity_sent']\n",
    "\n",
    "from sklearn.model_selection import train_test_split\n",
    "X_train, X_test, y_train, y_test = train_test_split(X, y, test_size=0.2, shuffle=True, random_state=0)\n",
    "\n",
    "#train RF model on train set\n",
    "from sklearn.ensemble import RandomForestRegressor\n",
    "rf = RandomForestRegressor().fit(X_train, y_train)\n",
    "\n",
    "#score RF model on test set\n",
    "print(rf.score(X_test, y_test))\n",
    "print(rf.feature_importances_)\n",
    "print(sorted(rf.feature_importances_)[::-1][:3])"
   ]
  },
  {
   "cell_type": "code",
   "execution_count": 73,
   "metadata": {},
   "outputs": [
    {
     "name": "stdout",
     "output_type": "stream",
     "text": [
      "Best params: {'max_depth': 10, 'n_estimators': 10}\n",
      "Train set score: 0.19556266966331481\n",
      "Test set score: -0.09771176128688985\n"
     ]
    }
   ],
   "source": [
    "#tune hyperparams\n",
    "from sklearn.model_selection import GridSearchCV\n",
    "\n",
    "param_grid = {'n_estimators' : [10, 20, 30],\n",
    "             'max_depth' : [10, 20, 30]}\n",
    "\n",
    "grid = GridSearchCV(RandomForestRegressor(), param_grid=param_grid, cv=5).fit(X_train, y_train)\n",
    "print('Best params: {}'.format(grid.best_params_))\n",
    "print('Train set score: {}'.format(grid.score(X_train, y_train)))\n",
    "print('Test set score: {}'.format(grid.score(X_test, y_test)))"
   ]
  },
  {
   "cell_type": "markdown",
   "metadata": {
    "id": "sq_XTii4YoKx"
   },
   "source": [
    "# Archive"
   ]
  },
  {
   "cell_type": "markdown",
   "metadata": {},
   "source": [
    "## Data cleaning (not necessary for eFMD)"
   ]
  },
  {
   "cell_type": "code",
   "execution_count": null,
   "metadata": {
    "id": "7o2EY7g6WkDY"
   },
   "outputs": [],
   "source": [
    "def clean_text(str_in):\n",
    "    import re\n",
    "    tmp = re.sub(r'[^\\w]', \" \",str_in).lower().strip().replace(\"  \", \" \")\n",
    "    return tmp"
   ]
  },
  {
   "cell_type": "markdown",
   "metadata": {
    "id": "Fc8Ao-VOYtkQ"
   },
   "source": [
    "#### Clean NYT abstract"
   ]
  },
  {
   "cell_type": "code",
   "execution_count": null,
   "metadata": {
    "colab": {
     "base_uri": "https://localhost:8080/"
    },
    "id": "U2o1Tm56W4fp",
    "outputId": "a02e4e06-a7f9-4996-a0e8-f95f9f9d0cec"
   },
   "outputs": [
    {
     "data": {
      "text/html": [
       "\n",
       "  <div id=\"df-8fad7e3e-0e16-41c5-b49f-d98654055ded\">\n",
       "    <div class=\"colab-df-container\">\n",
       "      <div>\n",
       "<style scoped>\n",
       "    .dataframe tbody tr th:only-of-type {\n",
       "        vertical-align: middle;\n",
       "    }\n",
       "\n",
       "    .dataframe tbody tr th {\n",
       "        vertical-align: top;\n",
       "    }\n",
       "\n",
       "    .dataframe thead th {\n",
       "        text-align: right;\n",
       "    }\n",
       "</style>\n",
       "<table border=\"1\" class=\"dataframe\">\n",
       "  <thead>\n",
       "    <tr style=\"text-align: right;\">\n",
       "      <th></th>\n",
       "      <th>pub_date</th>\n",
       "      <th>abstract_clean</th>\n",
       "    </tr>\n",
       "  </thead>\n",
       "  <tbody>\n",
       "    <tr>\n",
       "      <th>0</th>\n",
       "      <td>2023-03-17T19:54:54+0000</td>\n",
       "      <td>cases in poland and texas bring legal vulnerab...</td>\n",
       "    </tr>\n",
       "    <tr>\n",
       "      <th>1</th>\n",
       "      <td>2023-03-18T02:30:36+0000</td>\n",
       "      <td>the law is the only one in the nation to prohi...</td>\n",
       "    </tr>\n",
       "    <tr>\n",
       "      <th>2</th>\n",
       "      <td>2023-03-08T11:46:02+0000</td>\n",
       "      <td>since roe v wade ended the battle over legal a...</td>\n",
       "    </tr>\n",
       "    <tr>\n",
       "      <th>3</th>\n",
       "      <td>2023-03-13T22:23:59+0000</td>\n",
       "      <td>six works in a lewis clark exhibition about he...</td>\n",
       "    </tr>\n",
       "    <tr>\n",
       "      <th>4</th>\n",
       "      <td>2023-03-14T19:44:31+0000</td>\n",
       "      <td>it was the first conviction of its type in the...</td>\n",
       "    </tr>\n",
       "  </tbody>\n",
       "</table>\n",
       "</div>\n",
       "      <button class=\"colab-df-convert\" onclick=\"convertToInteractive('df-8fad7e3e-0e16-41c5-b49f-d98654055ded')\"\n",
       "              title=\"Convert this dataframe to an interactive table.\"\n",
       "              style=\"display:none;\">\n",
       "        \n",
       "  <svg xmlns=\"http://www.w3.org/2000/svg\" height=\"24px\"viewBox=\"0 0 24 24\"\n",
       "       width=\"24px\">\n",
       "    <path d=\"M0 0h24v24H0V0z\" fill=\"none\"/>\n",
       "    <path d=\"M18.56 5.44l.94 2.06.94-2.06 2.06-.94-2.06-.94-.94-2.06-.94 2.06-2.06.94zm-11 1L8.5 8.5l.94-2.06 2.06-.94-2.06-.94L8.5 2.5l-.94 2.06-2.06.94zm10 10l.94 2.06.94-2.06 2.06-.94-2.06-.94-.94-2.06-.94 2.06-2.06.94z\"/><path d=\"M17.41 7.96l-1.37-1.37c-.4-.4-.92-.59-1.43-.59-.52 0-1.04.2-1.43.59L10.3 9.45l-7.72 7.72c-.78.78-.78 2.05 0 2.83L4 21.41c.39.39.9.59 1.41.59.51 0 1.02-.2 1.41-.59l7.78-7.78 2.81-2.81c.8-.78.8-2.07 0-2.86zM5.41 20L4 18.59l7.72-7.72 1.47 1.35L5.41 20z\"/>\n",
       "  </svg>\n",
       "      </button>\n",
       "      \n",
       "  <style>\n",
       "    .colab-df-container {\n",
       "      display:flex;\n",
       "      flex-wrap:wrap;\n",
       "      gap: 12px;\n",
       "    }\n",
       "\n",
       "    .colab-df-convert {\n",
       "      background-color: #E8F0FE;\n",
       "      border: none;\n",
       "      border-radius: 50%;\n",
       "      cursor: pointer;\n",
       "      display: none;\n",
       "      fill: #1967D2;\n",
       "      height: 32px;\n",
       "      padding: 0 0 0 0;\n",
       "      width: 32px;\n",
       "    }\n",
       "\n",
       "    .colab-df-convert:hover {\n",
       "      background-color: #E2EBFA;\n",
       "      box-shadow: 0px 1px 2px rgba(60, 64, 67, 0.3), 0px 1px 3px 1px rgba(60, 64, 67, 0.15);\n",
       "      fill: #174EA6;\n",
       "    }\n",
       "\n",
       "    [theme=dark] .colab-df-convert {\n",
       "      background-color: #3B4455;\n",
       "      fill: #D2E3FC;\n",
       "    }\n",
       "\n",
       "    [theme=dark] .colab-df-convert:hover {\n",
       "      background-color: #434B5C;\n",
       "      box-shadow: 0px 1px 3px 1px rgba(0, 0, 0, 0.15);\n",
       "      filter: drop-shadow(0px 1px 2px rgba(0, 0, 0, 0.3));\n",
       "      fill: #FFFFFF;\n",
       "    }\n",
       "  </style>\n",
       "\n",
       "      <script>\n",
       "        const buttonEl =\n",
       "          document.querySelector('#df-8fad7e3e-0e16-41c5-b49f-d98654055ded button.colab-df-convert');\n",
       "        buttonEl.style.display =\n",
       "          google.colab.kernel.accessAllowed ? 'block' : 'none';\n",
       "\n",
       "        async function convertToInteractive(key) {\n",
       "          const element = document.querySelector('#df-8fad7e3e-0e16-41c5-b49f-d98654055ded');\n",
       "          const dataTable =\n",
       "            await google.colab.kernel.invokeFunction('convertToInteractive',\n",
       "                                                     [key], {});\n",
       "          if (!dataTable) return;\n",
       "\n",
       "          const docLinkHtml = 'Like what you see? Visit the ' +\n",
       "            '<a target=\"_blank\" href=https://colab.research.google.com/notebooks/data_table.ipynb>data table notebook</a>'\n",
       "            + ' to learn more about interactive tables.';\n",
       "          element.innerHTML = '';\n",
       "          dataTable['output_type'] = 'display_data';\n",
       "          await google.colab.output.renderOutput(dataTable, element);\n",
       "          const docLink = document.createElement('div');\n",
       "          docLink.innerHTML = docLinkHtml;\n",
       "          element.appendChild(docLink);\n",
       "        }\n",
       "      </script>\n",
       "    </div>\n",
       "  </div>\n",
       "  "
      ],
      "text/plain": [
       "                   pub_date                                     abstract_clean\n",
       "0  2023-03-17T19:54:54+0000  cases in poland and texas bring legal vulnerab...\n",
       "1  2023-03-18T02:30:36+0000  the law is the only one in the nation to prohi...\n",
       "2  2023-03-08T11:46:02+0000  since roe v wade ended the battle over legal a...\n",
       "3  2023-03-13T22:23:59+0000  six works in a lewis clark exhibition about he...\n",
       "4  2023-03-14T19:44:31+0000  it was the first conviction of its type in the..."
      ]
     },
     "execution_count": 72,
     "metadata": {},
     "output_type": "execute_result"
    }
   ],
   "source": [
    "abs_clean = []\n",
    "for i in nyt.abstract:\n",
    "  try:\n",
    "    abs_clean.append(clean_text(i))\n",
    "  except:\n",
    "    abs_clean.append('')\n",
    "\n",
    "nyt['abstract_clean'] = abs_clean\n",
    "nyt = nyt[['pub_date', 'abstract_clean']]\n",
    "nyt.head()"
   ]
  },
  {
   "cell_type": "markdown",
   "metadata": {
    "id": "fgms4kFqYygN"
   },
   "source": [
    "#### Clean Supreme Court decisions"
   ]
  },
  {
   "cell_type": "code",
   "execution_count": null,
   "metadata": {
    "colab": {
     "base_uri": "https://localhost:8080/",
     "height": 206
    },
    "id": "0W9impGZ2mn0",
    "outputId": "2e7fa7c4-44be-42ca-c6df-95f716625b10"
   },
   "outputs": [
    {
     "data": {
      "text/html": [
       "\n",
       "  <div id=\"df-c9673d34-f0ae-4db2-aa7c-5161a050f682\">\n",
       "    <div class=\"colab-df-container\">\n",
       "      <div>\n",
       "<style scoped>\n",
       "    .dataframe tbody tr th:only-of-type {\n",
       "        vertical-align: middle;\n",
       "    }\n",
       "\n",
       "    .dataframe tbody tr th {\n",
       "        vertical-align: top;\n",
       "    }\n",
       "\n",
       "    .dataframe thead th {\n",
       "        text-align: right;\n",
       "    }\n",
       "</style>\n",
       "<table border=\"1\" class=\"dataframe\">\n",
       "  <thead>\n",
       "    <tr style=\"text-align: right;\">\n",
       "      <th></th>\n",
       "      <th>year_filed</th>\n",
       "      <th>text_clean</th>\n",
       "    </tr>\n",
       "  </thead>\n",
       "  <tbody>\n",
       "    <tr>\n",
       "      <th>0</th>\n",
       "      <td>1973</td>\n",
       "      <td>this texas federal appeal and its georgia comp...</td>\n",
       "    </tr>\n",
       "    <tr>\n",
       "      <th>1</th>\n",
       "      <td>1992</td>\n",
       "      <td>i liberty finds no refuge in a jurisprudence o...</td>\n",
       "    </tr>\n",
       "    <tr>\n",
       "      <th>2</th>\n",
       "      <td>1973</td>\n",
       "      <td>in 1963 this court in ferguson v skrupa 372 u ...</td>\n",
       "    </tr>\n",
       "    <tr>\n",
       "      <th>3</th>\n",
       "      <td>1973</td>\n",
       "      <td>the court s opinion brings to the decision of ...</td>\n",
       "    </tr>\n",
       "    <tr>\n",
       "      <th>4</th>\n",
       "      <td>1977</td>\n",
       "      <td>respondent jane doe an indigent sought unsucce...</td>\n",
       "    </tr>\n",
       "  </tbody>\n",
       "</table>\n",
       "</div>\n",
       "      <button class=\"colab-df-convert\" onclick=\"convertToInteractive('df-c9673d34-f0ae-4db2-aa7c-5161a050f682')\"\n",
       "              title=\"Convert this dataframe to an interactive table.\"\n",
       "              style=\"display:none;\">\n",
       "        \n",
       "  <svg xmlns=\"http://www.w3.org/2000/svg\" height=\"24px\"viewBox=\"0 0 24 24\"\n",
       "       width=\"24px\">\n",
       "    <path d=\"M0 0h24v24H0V0z\" fill=\"none\"/>\n",
       "    <path d=\"M18.56 5.44l.94 2.06.94-2.06 2.06-.94-2.06-.94-.94-2.06-.94 2.06-2.06.94zm-11 1L8.5 8.5l.94-2.06 2.06-.94-2.06-.94L8.5 2.5l-.94 2.06-2.06.94zm10 10l.94 2.06.94-2.06 2.06-.94-2.06-.94-.94-2.06-.94 2.06-2.06.94z\"/><path d=\"M17.41 7.96l-1.37-1.37c-.4-.4-.92-.59-1.43-.59-.52 0-1.04.2-1.43.59L10.3 9.45l-7.72 7.72c-.78.78-.78 2.05 0 2.83L4 21.41c.39.39.9.59 1.41.59.51 0 1.02-.2 1.41-.59l7.78-7.78 2.81-2.81c.8-.78.8-2.07 0-2.86zM5.41 20L4 18.59l7.72-7.72 1.47 1.35L5.41 20z\"/>\n",
       "  </svg>\n",
       "      </button>\n",
       "      \n",
       "  <style>\n",
       "    .colab-df-container {\n",
       "      display:flex;\n",
       "      flex-wrap:wrap;\n",
       "      gap: 12px;\n",
       "    }\n",
       "\n",
       "    .colab-df-convert {\n",
       "      background-color: #E8F0FE;\n",
       "      border: none;\n",
       "      border-radius: 50%;\n",
       "      cursor: pointer;\n",
       "      display: none;\n",
       "      fill: #1967D2;\n",
       "      height: 32px;\n",
       "      padding: 0 0 0 0;\n",
       "      width: 32px;\n",
       "    }\n",
       "\n",
       "    .colab-df-convert:hover {\n",
       "      background-color: #E2EBFA;\n",
       "      box-shadow: 0px 1px 2px rgba(60, 64, 67, 0.3), 0px 1px 3px 1px rgba(60, 64, 67, 0.15);\n",
       "      fill: #174EA6;\n",
       "    }\n",
       "\n",
       "    [theme=dark] .colab-df-convert {\n",
       "      background-color: #3B4455;\n",
       "      fill: #D2E3FC;\n",
       "    }\n",
       "\n",
       "    [theme=dark] .colab-df-convert:hover {\n",
       "      background-color: #434B5C;\n",
       "      box-shadow: 0px 1px 3px 1px rgba(0, 0, 0, 0.15);\n",
       "      filter: drop-shadow(0px 1px 2px rgba(0, 0, 0, 0.3));\n",
       "      fill: #FFFFFF;\n",
       "    }\n",
       "  </style>\n",
       "\n",
       "      <script>\n",
       "        const buttonEl =\n",
       "          document.querySelector('#df-c9673d34-f0ae-4db2-aa7c-5161a050f682 button.colab-df-convert');\n",
       "        buttonEl.style.display =\n",
       "          google.colab.kernel.accessAllowed ? 'block' : 'none';\n",
       "\n",
       "        async function convertToInteractive(key) {\n",
       "          const element = document.querySelector('#df-c9673d34-f0ae-4db2-aa7c-5161a050f682');\n",
       "          const dataTable =\n",
       "            await google.colab.kernel.invokeFunction('convertToInteractive',\n",
       "                                                     [key], {});\n",
       "          if (!dataTable) return;\n",
       "\n",
       "          const docLinkHtml = 'Like what you see? Visit the ' +\n",
       "            '<a target=\"_blank\" href=https://colab.research.google.com/notebooks/data_table.ipynb>data table notebook</a>'\n",
       "            + ' to learn more about interactive tables.';\n",
       "          element.innerHTML = '';\n",
       "          dataTable['output_type'] = 'display_data';\n",
       "          await google.colab.output.renderOutput(dataTable, element);\n",
       "          const docLink = document.createElement('div');\n",
       "          docLink.innerHTML = docLinkHtml;\n",
       "          element.appendChild(docLink);\n",
       "        }\n",
       "      </script>\n",
       "    </div>\n",
       "  </div>\n",
       "  "
      ],
      "text/plain": [
       "   year_filed                                         text_clean\n",
       "0        1973  this texas federal appeal and its georgia comp...\n",
       "1        1992  i liberty finds no refuge in a jurisprudence o...\n",
       "2        1973  in 1963 this court in ferguson v skrupa 372 u ...\n",
       "3        1973  the court s opinion brings to the decision of ...\n",
       "4        1977  respondent jane doe an indigent sought unsucce..."
      ]
     },
     "execution_count": 73,
     "metadata": {},
     "output_type": "execute_result"
    }
   ],
   "source": [
    "text_clean = []\n",
    "for i in sc.text:\n",
    "  try:\n",
    "    text_clean.append(clean_text(i))\n",
    "  except:\n",
    "    text_clean.append('')\n",
    "\n",
    "sc['text_clean'] = text_clean\n",
    "sc = sc[['year_filed', 'text_clean']]\n",
    "sc.head()"
   ]
  },
  {
   "cell_type": "markdown",
   "metadata": {
    "id": "5bkFaMmcHhMa"
   },
   "source": [
    "### Plotting all variables"
   ]
  },
  {
   "cell_type": "code",
   "execution_count": null,
   "metadata": {
    "id": "73vPhP7AHgp0"
   },
   "outputs": [],
   "source": [
    "import matplotlib.pyplot as plt\n",
    "\n",
    "metrics = ['care_p', 'fairness_p', 'loyalty_p', 'authority_p', 'sanctity_p', \n",
    "'care_sent', 'fairness_sent', 'loyalty_sent', 'authority_sent',\n",
    "'sanctity_sent', 'moral_nonmoral_ratio', 'f_var', 'sent_var']\n",
    "\n",
    "for i in metrics:\n",
    "  plt.figure(figsize=(6, 4))\n",
    "  plt.scatter(nyt_df.year, nyt_df[i], alpha=0.5, color='lightblue', label='NYT articles')\n",
    "  plt.scatter(sc_df.year_filed, sc_df[i], alpha=0.5, color='green', label='SCOTUS opinions')\n",
    "  plt.legend()\n",
    "  plt.xticks(rotation=90)\n",
    "  plt.xlabel('Publication year')\n",
    "  plt.ylabel(str(i))\n",
    "  plt.title('{} of abortion-related NYC articles and SCOTUS opinions over time'.format(str(i)))\n",
    "  plt.grid()\n",
    "  plt.savefig('{}overtime.png'.format(str(i)))\n",
    "  plt.show()"
   ]
  },
  {
   "cell_type": "markdown",
   "metadata": {
    "id": "Tg4-eWybQoqi"
   },
   "source": [
    "#### Note: scores that are calculated:\n",
    "\n",
    "\n",
    "```\n",
    "'care_p', 'fairness_p', 'loyalty_p', 'authority_p', 'sanctity_p', \n",
    "'care_sent', 'fairness_sent', 'loyalty_sent', 'authority_sent',\n",
    "'sanctity_sent', 'moral_nonmoral_ratio', 'f_var', 'sent_var'\n",
    "```"
   ]
  },
  {
   "cell_type": "code",
   "execution_count": 15,
   "metadata": {
    "colab": {
     "base_uri": "https://localhost:8080/",
     "height": 585
    },
    "id": "Vu_UtDcvPWU4",
    "outputId": "aaa57c4d-f881-4248-9ce3-b580364c2761",
    "scrolled": false
   },
   "outputs": [
    {
     "data": {
      "image/png": "[encoded data removed]",
      "text/plain": [
       "<Figure size 576x432 with 1 Axes>"
      ]
     },
     "metadata": {
      "needs_background": "light"
     },
     "output_type": "display_data"
    }
   ],
   "source": [
    "#visualize sanctity.vice over time\n",
    "import matplotlib.pyplot as plt\n",
    "plt.figure(figsize=(8, 6))\n",
    "plt.scatter(nyt_df.year, nyt_df_v['sanctity.vice'], alpha=0.5, color='lightblue', label='NYT sanctity vice score')\n",
    "plt.legend()\n",
    "plt.xticks(rotation=90)\n",
    "plt.xlabel('Publication year')\n",
    "plt.ylabel('Sanctity-vice scores')\n",
    "plt.title('Sanctity-vice scores for the NYTimes over time')\n",
    "plt.grid()\n",
    "plt.show()"
   ]
  },
  {
   "cell_type": "code",
   "execution_count": 16,
   "metadata": {
    "colab": {
     "base_uri": "https://localhost:8080/",
     "height": 585
    },
    "id": "xCvC67hoP84S",
    "outputId": "fcf914a6-ad1b-4697-8d40-67b129899997"
   },
   "outputs": [
    {
     "data": {
      "image/png": "[encoded data removed]",
      "text/plain": [
       "<Figure size 576x432 with 1 Axes>"
      ]
     },
     "metadata": {
      "needs_background": "light"
     },
     "output_type": "display_data"
    }
   ],
   "source": [
    "plt.figure(figsize=(8, 6))\n",
    "plt.scatter(sc_df.year_filed, sc_df_v['sanctity.vice'], alpha=0.5, color='green', label='sanctity vice score')\n",
    "plt.legend()\n",
    "plt.xticks(rotation=90)\n",
    "plt.xlabel('Publication year')\n",
    "plt.ylabel('Sanctity-vice scores')\n",
    "plt.title('Sanctity-vice scores for the Supreme Court over time')\n",
    "plt.grid()\n",
    "plt.show()"
   ]
  },
  {
   "cell_type": "markdown",
   "metadata": {},
   "source": [
    "## Scrapped idea for prediction model - given SCOTUS sanctity score in a given year, what will NYT sanctity score be?"
   ]
  },
  {
   "cell_type": "code",
   "execution_count": null,
   "metadata": {
    "id": "B0ngXt_chEZE"
   },
   "outputs": [],
   "source": [
    "#subset dfs, group by year\n",
    "\n",
    "sc_tmp = pd.concat((sc_df_v[['sanctity.virtue', 'sanctity.vice', 'year_filed']], sc_df[['sanctity_sent']]), axis=1)\n",
    "sc_tmp.shape\n",
    "\n",
    "nyt_tmp = pd.concat((nyt_df_v[['sanctity.virtue', 'sanctity.vice', 'year']], nyt_df[['sanctity_sent']]), axis=1)\n",
    "nyt_tmp.shape\n",
    "\n",
    "sc_tmp = sc_tmp.groupby('year_filed').max() #can change this to mean, median, min, etc.\n",
    "nyt_tmp = nyt_tmp.groupby('year').max()"
   ]
  },
  {
   "cell_type": "code",
   "execution_count": null,
   "metadata": {
    "colab": {
     "base_uri": "https://localhost:8080/",
     "height": 449
    },
    "id": "50CqwVtXjMdg",
    "outputId": "4451db86-1748-448d-83c3-6c7fba3a2c45"
   },
   "outputs": [
    {
     "data": {
      "image/png": "[encoded data removed]",
      "text/plain": [
       "<Figure size 640x480 with 1 Axes>"
      ]
     },
     "metadata": {},
     "output_type": "display_data"
    }
   ],
   "source": [
    "import seaborn as sns\n",
    "sns.regplot(data=sc_tmp, x=sc_tmp.index, y='sanctity_sent', label='sc sanctity sent')\n",
    "sns.regplot(data=nyt_tmp, x=nyt_tmp.index, y='sanctity_sent', label='nyt sanctity sent')\n",
    "plt.legend()\n",
    "plt.show()"
   ]
  },
  {
   "cell_type": "code",
   "execution_count": null,
   "metadata": {},
   "outputs": [],
   "source": []
  }
 ],
 "metadata": {
  "colab": {
   "include_colab_link": true,
   "provenance": []
  },
  "kernelspec": {
   "display_name": "Python 3 (ipykernel)",
   "language": "python",
   "name": "python3"
  },
  "language_info": {
   "codemirror_mode": {
    "name": "ipython",
    "version": 3
   },
   "file_extension": ".py",
   "mimetype": "text/x-python",
   "name": "python",
   "nbconvert_exporter": "python",
   "pygments_lexer": "ipython3",
   "version": "3.9.12"
  }
 },
 "nbformat": 4,
 "nbformat_minor": 1
}
